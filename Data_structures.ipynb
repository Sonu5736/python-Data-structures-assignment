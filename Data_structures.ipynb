{
  "metadata": {
    "kernelspec": {
      "name": "python",
      "display_name": "Python (Pyodide)",
      "language": "python"
    },
    "language_info": {
      "codemirror_mode": {
        "name": "python",
        "version": 3
      },
      "file_extension": ".py",
      "mimetype": "text/x-python",
      "name": "python",
      "nbconvert_exporter": "python",
      "pygments_lexer": "ipython3",
      "version": "3.8"
    }
  },
  "nbformat_minor": 4,
  "nbformat": 4,
  "cells": [
    {
      "cell_type": "code",
      "source": "#[question] 1.what are data structures, and why are they important?\n\n#[answer]Data structures are ways to organize and store data for efficient use. They're important because they improve data management, optimize performance, make algorithms work better, and handle large-scale data effectively. Examples include arrays, linked lists, stacks, queues, trees, and graphs.\n",
      "metadata": {
        "trusted": true
      },
      "outputs": [],
      "execution_count": null
    },
    {
      "cell_type": "code",
      "source": "#[question] 2.What is the difference between mutable and immutable data types with examples?\n\n\n\n#[answer]The difference between mutable and immutable data types is:\n\n#1. Mutable:\n\n#Can be changed or modified after creation.\n\n#Example: list, dict, set in Python.\n\nmy_list = [1, 2, 3]\nmy_list.append(4)  # List is modified.\n\n\n\n#2. Immutable:\n\n#Cannot be changed after creation.\n\n#Example: int, float, str, tuple in Python.\n\nmy_tuple = (1, 2, 3)\nmy_tuple[0] = 4  # Error: Tuples cannot be modified.\n\n\n\n\n#Mutable types are flexible, while immutable types are safer and more memory-efficient.\n\n",
      "metadata": {
        "trusted": true
      },
      "outputs": [],
      "execution_count": null
    },
    {
      "cell_type": "code",
      "source": "#[question] 3.What are the main differences between lists and tuples in Python?\n\n\n\n\n#[answer]The main differences between lists and tuples in Python are:\n\n#1. Mutability:\n\n#List: Mutable (can be changed after creation).\n\nmy_list = [1, 2, 3]\nmy_list.append(4)  # List can be modified\n\n#Tuple: Immutable (cannot be changed after creation).\n\nmy_tuple = (1, 2, 3)\nmy_tuple[0] = 4  # Error: Tuples cannot be modified\n\n\n\n#2. Syntax:\n\n#List: Defined with square brackets [].\n\n#Tuple: Defined with parentheses ().\n\n\n\n#3. Performance:\n\n#List: Slower than tuples for certain operations due to its mutability.\n\n#Tuple: Faster than lists, especially when used for read-only operations.\n\n\n\n#4. Use cases:\n\n#List: Used when the data is likely to change.\n#Tuple: Used for fixed collections of data.\n\n",
      "metadata": {
        "trusted": true
      },
      "outputs": [],
      "execution_count": null
    },
    {
      "cell_type": "code",
      "source": "#[question] 4.How do different data structures store data?\n\n\n\n#[answer]Here's how different data structures like string, list, set, dictionary, and array store data:\n\n#1. String:\n\n#Stores a sequence of characters.\n\n#Immutable in Python (can't be changed after creation).\n\n#Example: \"hello\"\n\n#Internally, each character is stored as a sequence of memory addresses.\n\n\n\n#2. List:\n\n#Stores a collection of elements, which can be of different types.\n\n#Mutable (can be changed after creation).\n\n#Example: [1, 2, \"apple\", 3.5]\n\n#Internally, elements are stored in a dynamic array, where elements can be resized.\n\n\n\n#3. Set:\n\n#Stores a collection of unique elements (no duplicates).\n\n#Mutable.\n\n#Example: {1, 2, 3, 4}\n\n#Internally, data is stored in a hash table for efficient lookups.\n\n\n\n#4. Dictionary:\n\n#Stores key-value pairs.\n\n#Mutable.\n\n#Example: {\"name\": \"Alice\", \"age\": 25}\n\n#Internally, it uses a hash table to store keys and their corresponding values.\n\n\n\n#5. Array:\n\n#Stores a collection of elements, all of the same type.\n\n#Mutable (in languages like Python, using the array module).\n\n#Example: array.array('i', [1, 2, 3, 4])\n\n#Internally, elements are stored in contiguous memory locations, and they have a fixed size.\n",
      "metadata": {
        "trusted": true
      },
      "outputs": [],
      "execution_count": null
    },
    {
      "cell_type": "code",
      "source": "#[question] 5.Why would you use a set instead of a list in Python?\n\n\n\n#[answer]You might use a set instead of a list in Python for the following reasons:\n\n#1. Uniqueness:\n\n#A set automatically removes duplicate values, while a list allows duplicates.\n\n#Example:\n\nmy_set = {1, 2, 3, 3}  # Result: {1, 2, 3}\nmy_list = [1, 2, 3, 3]  # Result: [1, 2, 3, 3]\n\n\n\n#2. Faster Lookups:\n\n#Sets use hash tables, so checking for the existence of an item is faster (average O(1) time), while lists require O(n) time for lookups.\n\n#Example:\n\nmy_set = {1, 2, 3}\n2 in my_set  # Faster\nmy_list = [1, 2, 3]\n2 in my_list  # Slower\n\n\n\n#3. Efficient Operations:\n\n#Sets provide more efficient operations for tasks like union, intersection, and difference, which are slower with lists.\n\n",
      "metadata": {
        "trusted": true
      },
      "outputs": [
        {
          "execution_count": 1,
          "output_type": "execute_result",
          "data": {
            "text/plain": "True"
          },
          "metadata": {}
        }
      ],
      "execution_count": 1
    },
    {
      "cell_type": "code",
      "source": "#[question] 6. \"What is a string in Python, and how is it different from a list?\"\n\n\n\n\n#[answer]A string in Python is a sequence of characters enclosed in quotes (single, double, or triple). For example: \"hello\" or 'Python'. Strings are immutable, meaning once created, they cannot be changed.\n\n#A list in Python is a collection of items (elements) that can be of different data types. Lists are mutable, meaning you can change, add, or remove elements after creation. For example: [1, 2, 3, 'Python'].\n\n#Key Differences:\n\n#1. Mutability: Strings are immutable; lists are mutable.\n\n\n#2. Data Type: Strings store only characters; lists can store elements of any data type.\n\n\n#3. Syntax: Strings use quotes, while lists use square brackets ([]).\n\n\n#4. Operations: Strings are used for text manipulation, while lists are used for managing collections of items.\n\n\n",
      "metadata": {
        "trusted": true
      },
      "outputs": [],
      "execution_count": null
    },
    {
      "cell_type": "code",
      "source": "#[question] 7.\"How to ensure data integrity in Python?\"\n\n\n\n#[answer]To ensure data integrity in Python, you can follow these practices:\n\n#1. Use Proper Data Structures: Choose the right data structures (like dictionaries, sets, or classes) to maintain accurate and consistent data.\n\n\n#2. Validation: Validate inputs before processing them. You can use libraries like pydantic or simple checks to make sure data meets certain criteria.\n\n\n#3. Error Handling: Implement try-except blocks to catch exceptions and handle errors gracefully, ensuring the program doesn't crash and data remains intact.\n\n\n#4. Database Transactions: If working with databases, use transactions to ensure that changes are committed only when the operation is successful. For example, commit() in SQL or using ORM libraries like SQLAlchemy.\n\n\n#5. Use Hashing: Hash important data to verify its integrity. For example, use the hashlib library to generate a hash of the data and compare it at different stages.\n\n\n#6. Testing and Logging: Write tests to verify that the data is handled correctly and use logging to monitor any anomalies or data corruption.\n",
      "metadata": {
        "trusted": true
      },
      "outputs": [],
      "execution_count": null
    },
    {
      "cell_type": "code",
      "source": "#[question] 8.What is a hash table, and how does it relate to dictionary in python ?\n\n\n#[answer] A hash table is a data structure that stores data in key-value pairs, where each key is hashed to a specific index in an array. The idea is to use a hash function to quickly locate the data associated with a given key.\n\n#In Python, a dictionary is implemented using a hash table. Each key in the dictionary is hashed, and the resulting hash value is used to determine where to store the corresponding value in memory. This allows for efficient lookups, insertions, and deletions, typically with an average time complexity of O(1).\n\n#So, a Python dictionary is essentially a hash table, where the keys are hashed to provide fast access to their corresponding values.\n",
      "metadata": {
        "trusted": true
      },
      "outputs": [],
      "execution_count": null
    },
    {
      "cell_type": "code",
      "source": "#[question] .9Can lists contain different data types in python? \n\n\n#[answer]Yes, in Python, lists can contain different data types. A list can hold a mix of integers, strings, floats, and even other lists or objects, making it a flexible data structure. For example:\n\nmy_list = [1, \"hello\", 3.14, [1, 2, 3]]\n\n#In this example, the list contains an integer, a string, a float, and another list.\n",
      "metadata": {
        "trusted": true
      },
      "outputs": [],
      "execution_count": 2
    },
    {
      "cell_type": "code",
      "source": "#[question] 10.Explain why strings are immutable in Python?\n\n\n\n#[answer]Strings are immutable in Python because once a string is created, its value cannot be changed. This design choice helps ensure that strings are safe to use in programs without unintended side effects.\n\n#Here are a few reasons why strings are immutable:\n\n#1. Efficiency: Immutable objects are easier to manage, and Python can optimize memory usage by reusing existing string objects.\n\n\n#2. Security: Immutability helps prevent accidental changes to string data, which can avoid bugs or security issues.\n\n\n#3. Hashing: Since strings are used as keys in dictionaries, immutability ensures that their hash value remains constant, allowing for reliable lookups.\n\n\n",
      "metadata": {
        "trusted": true
      },
      "outputs": [],
      "execution_count": null
    },
    {
      "cell_type": "code",
      "source": "#[question] 11.Which dictionaries offer lists for specific tasks?\n\n\n\n#[answer]Several dictionaries and resources offer specialized word lists for specific tasks, such as:\n\n#1. Merriam-Webster: Provides thematic word lists (e.g., medical, legal, or technical terms).\n\n\n#2. Oxford Learner's Dictionaries: Offers topic-based vocabulary lists for students and professionals.\n\n\n#3. WordNet: A lexical database that organizes words by meaning and relationship, useful for research and analysis.\n\n\n#4. Thesaurus.com: Includes categorized word lists for synonyms and related concepts.\n\n\n#5. Custom Resources: Some online platforms like Quizlet or Anki allow users to create or access pre-made vocabulary lists.\n\n\n\n#Let me know your specific need, and I can guide you further!\n",
      "metadata": {
        "trusted": true
      },
      "outputs": [],
      "execution_count": null
    },
    {
      "cell_type": "code",
      "source": "#[question] 12.  Describe a scenario whare using a tuple would be preferable over a list.  \n\n\n#[answer] A tuple is preferable over a list when you need an immutable collection of items, such as storing coordinates (x, y), configuration settings, or fixed data like days of the week. For example, using a tuple ensures the data remains unchanged throughout the program.\n",
      "metadata": {
        "trusted": true
      },
      "outputs": [],
      "execution_count": null
    },
    {
      "cell_type": "code",
      "source": "#[question] 13.How do you handle duplicate values in Python?\n\n\n#[answer] In Python, sets automatically remove duplicate values. When you add elements to a set, only unique values are kept. For example:\n\nmy_set = {1, 2, 2, 3}\nprint(my_set)  # Output: {1, 2, 3}\n\n#This ensures all elements in a set are unique.\n",
      "metadata": {
        "trusted": true
      },
      "outputs": [
        {
          "name": "stdout",
          "text": "{1, 2, 3}\n",
          "output_type": "stream"
        }
      ],
      "execution_count": 3
    },
    {
      "cell_type": "code",
      "source": "#[question] 14.How does the \"in\" keyword work differently for lists and dictionaries?\n\n\n#[answer]The in keyword works differently for lists and dictionaries in Python:\n\n#For lists: It checks if a value exists in the list.\n#Example:\n\nmy_list = [1, 2, 3]\nprint(2 in my_list)  # Output: True\n\n#For dictionaries: It checks if a key exists in the dictionary (not the values).\n#Example:\n\nmy_dict = {'a': 1, 'b': 2}\nprint('a' in my_dict)  # Output: True\nprint(1 in my_dict)    # Output: False\n\n",
      "metadata": {
        "trusted": true
      },
      "outputs": [
        {
          "name": "stdout",
          "text": "True\nTrue\nFalse\n",
          "output_type": "stream"
        }
      ],
      "execution_count": 4
    },
    {
      "cell_type": "code",
      "source": "#[question] 15.Can you modify the elements of a tuple? Explain why or why not.\n\n\n\n#[answer]No, you cannot modify the elements of a tuple because tuples are immutable in Python. Once a tuple is created, its elements cannot be changed, added, or removed. This immutability ensures that the data remains constant and prevents accidental modification.\n\n#Example:\n\nmy_tuple = (1, 2, 3)\n# The following will raise an error:\n# my_tuple[0] = 4  # TypeError: 'tuple' object does not support item assignment\n",
      "metadata": {
        "trusted": true
      },
      "outputs": [],
      "execution_count": 5
    },
    {
      "cell_type": "code",
      "source": "#[question] 16.What is a nested dictionary, and give me an example of its use case?\n\n\n#[answer]A nested dictionary is a dictionary where the value of one or more keys is another dictionary. It allows you to represent more complex data structures.\n\n#Example:\n\nstudent = {\n    \"name\": \"John\",\n    \"age\": 20,\n    \"courses\": {\n        \"math\": \"A\",\n        \"science\": \"B\"\n    }\n}\n\nprint(student[\"courses\"][\"math\"])  # Output: A\n\n#In this example, the \"courses\" key holds another dictionary, representing the subjects and their grades.\n",
      "metadata": {
        "trusted": true
      },
      "outputs": [
        {
          "name": "stdout",
          "text": "A\n",
          "output_type": "stream"
        }
      ],
      "execution_count": 6
    },
    {
      "cell_type": "code",
      "source": "#[question] 17.Describe the time complexity of accessing elements in a dictionary.\n\n\n\n#[answer]The time complexity of accessing elements in a dictionary is O(1) on average. This is because dictionaries in Python use hash tables for storing data, allowing for fast lookups by key. However, in the worst case (when there are hash collisions), the time complexity can be O(n), where n is the number of elements in the dictionary.\n",
      "metadata": {
        "trusted": true
      },
      "outputs": [],
      "execution_count": null
    },
    {
      "cell_type": "code",
      "source": "#[question] 18.In what situations are lists preferred over dictionaries?\n\n\n#[answer]Lists are preferred over dictionaries when:\n\n#1. Order matters: Lists maintain the order of elements, while dictionaries do not guarantee order (prior to Python 3.7).\n\n\n#2. Access by index: Lists allow you to access elements using an index, which is useful when you need to retrieve items in a specific sequence.\n\n\n#3. Homogeneous data: Lists are better when the data type is uniform or when you need a collection of similar items, like numbers or strings.\n\n\n\n#Example:\n\nmy_list = [1, 2, 3]\nprint(my_list[0])  # Output: 1\n",
      "metadata": {
        "trusted": true
      },
      "outputs": [
        {
          "name": "stdout",
          "text": "1\n",
          "output_type": "stream"
        }
      ],
      "execution_count": 7
    },
    {
      "cell_type": "code",
      "source": "#[question] 19.Why are dictionaries considered unordered, and how does that affect data retrieval?\n\n\n#[answer]Dictionaries in Python are considered unordered because, prior to Python 3.7, they do not maintain the order of insertion of key-value pairs. Starting from Python 3.7, dictionaries maintain insertion order, but they are still not designed to be accessed by order like lists.\n\n#The unordered nature of dictionaries means that when retrieving data, you access values by their keys and not by their position, unlike lists. This allows for faster lookups (O(1) on average), but you can't rely on the order of elements unless explicitly managing it with structures like OrderedDict.\n",
      "metadata": {
        "trusted": true
      },
      "outputs": [],
      "execution_count": null
    },
    {
      "cell_type": "code",
      "source": "#[question] 20.Explain the difference between a list and a dictionary in terms of data retrieval.\n\n\n\n#[answer]The main difference between a list and a dictionary in terms of data retrieval is:\n\n#List: You retrieve data using indexes (position-based access). Lists are ordered, so you access elements by their index in the list. This is useful when you need to maintain the order of items.\n\n#Example:\n\nmy_list = [10, 20, 30]\nprint(my_list[1])  # Output: 20\n\n#Dictionary: You retrieve data using keys (key-based access). Dictionaries are unordered (although they maintain insertion order in Python 3.7+), and you access values by specifying the key associated with them.\n\n#Example:\n\nmy_dict = {\"a\": 10, \"b\": 20}\nprint(my_dict[\"b\"])  # Output: 20\n\n\n#In summary, lists use indexes for retrieval, while dictionaries use keys.\n",
      "metadata": {
        "trusted": true
      },
      "outputs": [
        {
          "name": "stdout",
          "text": "20\n20\n",
          "output_type": "stream"
        }
      ],
      "execution_count": 8
    },
    {
      "cell_type": "code",
      "source": "#Practical questions",
      "metadata": {
        "trusted": true
      },
      "outputs": [],
      "execution_count": null
    },
    {
      "cell_type": "code",
      "source": "#[question] 1. Can you write a string with your name and print it?\n\n\n\n#[answer] \nName = \"Sonu hazar\"\nprint (Name)",
      "metadata": {
        "trusted": true
      },
      "outputs": [
        {
          "name": "stdout",
          "text": "Sonu hazar\n",
          "output_type": "stream"
        }
      ],
      "execution_count": 9
    },
    {
      "cell_type": "code",
      "source": "#[question] 2. write a code to fined the length of the string \"Hello world\"\n\n#[answer]Here\u2019s a simple Python code to find the length of the string \"Hello world\":\n\n# Define the string\nmy_string = \"Hello world\"\n\n# Find the length of the string\nlength = len(my_string)\n\n# Print the result\nprint(\"The length of the string is:\", length)\n",
      "metadata": {
        "trusted": true
      },
      "outputs": [
        {
          "name": "stdout",
          "text": "The length of the string is: 11\n",
          "output_type": "stream"
        }
      ],
      "execution_count": 10
    },
    {
      "cell_type": "code",
      "source": "#[question] 3.\"Write a Python program to slice the first 3 characters from the string 'Python Programming'.\"\n\n\n\n#[question]\n\n# Define the string\nmy_string = \"Python Programming\"\n\n# Slice the first 3 characters\nfirst_three = my_string[:3]\n\n# Print the result\nprint(\"The first 3 characters are:\", first_three)\n",
      "metadata": {
        "trusted": true
      },
      "outputs": [
        {
          "name": "stdout",
          "text": "The first 3 characters are: Pyt\n",
          "output_type": "stream"
        }
      ],
      "execution_count": 11
    },
    {
      "cell_type": "code",
      "source": "",
      "metadata": {
        "trusted": true
      },
      "outputs": [],
      "execution_count": null
    },
    {
      "cell_type": "code",
      "source": "#[question] 4.\"Write a Python program to convert the string 'hello' to uppercase.\"\n\n\n#[answer]\n# Define the string\nmy_string = \"hello\"\n\n# Convert the string to uppercase\nuppercase_string = my_string.upper()\n\n# Print the result\nprint(\"The uppercase string is:\", uppercase_string)\n",
      "metadata": {
        "trusted": true
      },
      "outputs": [
        {
          "name": "stdout",
          "text": "The uppercase string is: HELLO\n",
          "output_type": "stream"
        }
      ],
      "execution_count": 12
    },
    {
      "cell_type": "code",
      "source": "#[question] 5.\"Write a Python program to replace the word 'apples' with 'oranges' in the string 'I like apples'.\"\n\n\n\n#[answer]\n# Define the string\nmy_string = \"I like apples\"\n\n# Replace the word 'apples' with 'oranges'\nupdated_string = my_string.replace(\"apples\", \"oranges\")\n\n# Print the result\nprint(\"Updated string:\", updated_string)\n",
      "metadata": {
        "trusted": true
      },
      "outputs": [
        {
          "name": "stdout",
          "text": "Updated string: I like oranges\n",
          "output_type": "stream"
        }
      ],
      "execution_count": 13
    },
    {
      "cell_type": "code",
      "source": "#[question] 6.\"Write a Python program to create a list with numbers from 1 to 5 and print it.\"\n\n\n#[answer]\n# Create a list with numbers from 1 to 5\nmy_list = [1, 2, 3, 4, 5]\n\n# Print the list\nprint(\"The list is:\", my_list)\n",
      "metadata": {
        "trusted": true
      },
      "outputs": [
        {
          "name": "stdout",
          "text": "The list is: [1, 2, 3, 4, 5]\n",
          "output_type": "stream"
        }
      ],
      "execution_count": 14
    },
    {
      "cell_type": "code",
      "source": "#[question] 7.\"Write a Python program to append the number 7 to the list [1, 2, 3].\"\n\n\n#[answer]\n# Create a list\nmy_list = [1, 2, 3]\n\n# Append the number 7 to the list\nmy_list.append(7)\n\n# Print the updated list\nprint(\"Updated list:\", my_list)\n",
      "metadata": {
        "trusted": true
      },
      "outputs": [
        {
          "name": "stdout",
          "text": "Updated list: [1, 2, 3, 7]\n",
          "output_type": "stream"
        }
      ],
      "execution_count": 15
    },
    {
      "cell_type": "code",
      "source": "#[question] 8.\"Write a Python program to remove the number 3 from the list [1, 2, 3, 7, 5].\"\n\n\n#[answer]# Create a list\nmy_list = [1, 2, 3, 7, 5]\n\n# Remove the number 3 from the list\nmy_list.remove(3)\n\n# Print the updated list\nprint(\"Updated list:\", my_list)\n",
      "metadata": {
        "trusted": true
      },
      "outputs": [
        {
          "name": "stdout",
          "text": "Updated list: [1, 2, 7, 5]\n",
          "output_type": "stream"
        }
      ],
      "execution_count": 16
    },
    {
      "cell_type": "code",
      "source": "#[question] 9.\"Write a Python program to access the second element in the list ['a', 'b', 'c', 'd'].\"\n\n\n#[answer]\n# Define the list\nmy_list = ['a', 'b', 'c', 'd']\n\n# Access the second element (index 1)\nsecond_element = my_list[1]\n\n# Print the second element\nprint(\"The second element is:\", second_element)\n",
      "metadata": {
        "trusted": true
      },
      "outputs": [
        {
          "name": "stdout",
          "text": "The second element is: b\n",
          "output_type": "stream"
        }
      ],
      "execution_count": 17
    },
    {
      "cell_type": "code",
      "source": "#[question] 10.\"Write a Python program to reverse the list ['10', '20', '30', '40', '50'].\"\n\n\n#[answer]\n# Define the list\nmy_list = ['10', '20', '30', '40', '50']\n\n# Reverse the list\nmy_list.reverse()\n\n# Print the reversed list\nprint(\"Reversed list:\", my_list)\n",
      "metadata": {
        "trusted": true
      },
      "outputs": [
        {
          "name": "stdout",
          "text": "Reversed list: ['50', '40', '30', '20', '10']\n",
          "output_type": "stream"
        }
      ],
      "execution_count": 18
    },
    {
      "cell_type": "code",
      "source": "#[question] 11.Write a code to create a tuple with the elements 10, 20, 30 and print it.\n\n#[answer]\n# Create the tuple\nmy_tuple = (10, 20, 30)\n\n# Print the tuple\nprint(\"The tuple is:\", my_tuple)\n",
      "metadata": {
        "trusted": true
      },
      "outputs": [
        {
          "name": "stdout",
          "text": "The tuple is: (10, 20, 30)\n",
          "output_type": "stream"
        }
      ],
      "execution_count": 19
    },
    {
      "cell_type": "code",
      "source": "#[question] 12.Write a code to access the first element of the tuple ('apple', 'banana', 'cherry').\n\n#[answer]\n# Define the tuple\nmy_tuple = ('apple', 'banana', 'cherry')\n\n# Access the first element (index 0)\nfirst_element = my_tuple[0]\n\n# Print the first element\nprint(\"The first element is:\", first_element)\n",
      "metadata": {
        "trusted": true
      },
      "outputs": [
        {
          "name": "stdout",
          "text": "The first element is: apple\n",
          "output_type": "stream"
        }
      ],
      "execution_count": 20
    },
    {
      "cell_type": "code",
      "source": "#[question] 13.Write a code to count how many times the number 2 appears in the tuple (1, 2, 3, 2, 4, 2).\n\n#[answer]\n# Define the tuple\nmy_tuple = (1, 2, 3, 2, 4, 2)\n\n# Count the occurrences of the number 2\ncount_2 = my_tuple.count(2)\n\n# Print the result\nprint(\"The number 2 appears\", count_2, \"times.\")\n",
      "metadata": {
        "trusted": true
      },
      "outputs": [
        {
          "name": "stdout",
          "text": "The number 2 appears 3 times.\n",
          "output_type": "stream"
        }
      ],
      "execution_count": 21
    },
    {
      "cell_type": "code",
      "source": "#[question] 14.Write a code to find the index of the element \"cat\" in the tuple ('dog', 'cat', 'rabbit').\n\n#[answer]\n# Define the tuple\nmy_tuple = ('dog', 'cat', 'rabbit')\n\n# Find the index of the element 'cat'\nindex_cat = my_tuple.index('cat')\n\n# Print the result\nprint(\"The index of 'cat' is:\", index_cat)\n\n",
      "metadata": {
        "trusted": true
      },
      "outputs": [
        {
          "name": "stdout",
          "text": "The index of 'cat' is: 1\n",
          "output_type": "stream"
        }
      ],
      "execution_count": 22
    },
    {
      "cell_type": "code",
      "source": "#[question] 15.Write a code to check if the element \"banana\" is in the tuple ('apple', 'orange', 'banana').\n\n#[answer]\n# Define the tuple\nmy_tuple = ('apple', 'orange', 'banana')\n\n# Check if 'banana' is in the tuple\nif 'banana' in my_tuple:\n    print(\"Yes, 'banana' is in the tuple.\")\nelse:\n    print(\"No, 'banana' is not in the tuple.\")\n",
      "metadata": {
        "trusted": true
      },
      "outputs": [
        {
          "name": "stdout",
          "text": "Yes, 'banana' is in the tuple.\n",
          "output_type": "stream"
        }
      ],
      "execution_count": 23
    },
    {
      "cell_type": "code",
      "source": "#[question] 16.Write a code to create a set with the elements 1, 2, 3, 4, 5 and print it.\n\n\n#[answer]\n# Create the set\nmy_set = {1, 2, 3, 4, 5}\n\n# Print the set\nprint(\"The set is:\", my_set)\n",
      "metadata": {
        "trusted": true
      },
      "outputs": [
        {
          "name": "stdout",
          "text": "The set is: {1, 2, 3, 4, 5}\n",
          "output_type": "stream"
        }
      ],
      "execution_count": 24
    },
    {
      "cell_type": "code",
      "source": "#[question] 17.Write a code to add the element 6 to the set {1, 2, 3, 4}.\n\n#[answer]\n# Define the set\nmy_set = {1, 2, 3, 4}\n\n# Add the element 6 to the set\nmy_set.add(6)\n\n# Print the updated set\nprint(\"Updated set:\", my_set)\n",
      "metadata": {
        "trusted": true
      },
      "outputs": [
        {
          "name": "stdout",
          "text": "Updated set: {1, 2, 3, 4, 6}\n",
          "output_type": "stream"
        }
      ],
      "execution_count": 25
    },
    {
      "cell_type": "code",
      "source": "#[question] 18.Write a code to create a tuple with the elements 10, 20, 30 and print it.\n\n#[answer]\n# Create the tuple\nmy_tuple = (10, 20, 30)\n\n# Print the tuple\nprint(\"The tuple is:\", my_tuple)\n",
      "metadata": {
        "trusted": true
      },
      "outputs": [
        {
          "name": "stdout",
          "text": "The tuple is: (10, 20, 30)\n",
          "output_type": "stream"
        }
      ],
      "execution_count": 26
    },
    {
      "cell_type": "code",
      "source": "#[question] 19.Write a code to access the first element of the tuple ('apple', 'banana', 'cherry').\n\n#[answer]\n# Define the tuple\nmy_tuple = ('apple', 'banana', 'cherry')\n\n# Access the first element (index 0)\nfirst_element = my_tuple[0]\n\n# Print the first element\nprint(\"The first element is:\", first_element)\n",
      "metadata": {
        "trusted": true
      },
      "outputs": [
        {
          "name": "stdout",
          "text": "The first element is: apple\n",
          "output_type": "stream"
        }
      ],
      "execution_count": 27
    },
    {
      "cell_type": "code",
      "source": "#[question] 20.Write a code to count how many times the number 2 appears in the tuple (1, 2, 3, 2, 4, 2).\n\n#[answer]\n# Define the tuple\nmy_tuple = (1, 2, 3, 2, 4, 2)\n\n# Count the occurrences of the number 2\ncount_2 = my_tuple.count(2)\n\n# Print the result\nprint(\"The number 2 appears\", count_2, \"times.\")\n",
      "metadata": {
        "trusted": true
      },
      "outputs": [
        {
          "name": "stdout",
          "text": "The number 2 appears 3 times.\n",
          "output_type": "stream"
        }
      ],
      "execution_count": 28
    },
    {
      "cell_type": "code",
      "source": "#[question] 21.Write a code to find the index of the element \"cat\" in the tuple ('dog', 'cat', 'rabbit').\n\n\n#[answer]\n# Define the tuple\nmy_tuple = ('dog', 'cat', 'rabbit')\n\n# Find the index of the element 'cat'\nindex_cat = my_tuple.index('cat')\n\n# Print the result\nprint(\"The index of 'cat' is:\", index_cat)\n",
      "metadata": {
        "trusted": true
      },
      "outputs": [
        {
          "name": "stdout",
          "text": "The index of 'cat' is: 1\n",
          "output_type": "stream"
        }
      ],
      "execution_count": 29
    },
    {
      "cell_type": "code",
      "source": "#[question] 22.Write a code to check if the element \"banana\" is in the tuple ('apple', 'orange', 'banana').\n\n#[answer]\n# Define the tuple\nmy_tuple = ('apple', 'orange', 'banana')\n\n# Check if 'banana' is in the tuple\nif 'banana' in my_tuple:\n    print(\"Yes, 'banana' is in the tuple.\")\nelse:\n    print(\"No, 'banana' is not in the tuple.\")",
      "metadata": {
        "trusted": true
      },
      "outputs": [
        {
          "name": "stdout",
          "text": "Yes, 'banana' is in the tuple.\n",
          "output_type": "stream"
        }
      ],
      "execution_count": 30
    },
    {
      "cell_type": "code",
      "source": "#[question] 23.Write a code to create a set with the elements 1, 2, 3, 4, 5 and print it.\n\n#[answer]\n# Create the set\nmy_set = {1, 2, 3, 4, 5}\n\n# Print the set\nprint(\"The set is:\", my_set)\n",
      "metadata": {
        "trusted": true
      },
      "outputs": [
        {
          "name": "stdout",
          "text": "The set is: {1, 2, 3, 4, 5}\n",
          "output_type": "stream"
        }
      ],
      "execution_count": 31
    },
    {
      "cell_type": "code",
      "source": "#[question] 24.Write a code to add the element 6 to the set {1, 2, 3, 4}.\n\n#[answer]\n# Define the set\nmy_set = {1, 2, 3, 4}\n\n# Add the element 6 to the set\nmy_set.add(6)\n\n# Print the updated set\nprint(\"Updated set:\", my_set)\n",
      "metadata": {
        "trusted": true
      },
      "outputs": [
        {
          "name": "stdout",
          "text": "Updated set: {1, 2, 3, 4, 6}\n",
          "output_type": "stream"
        }
      ],
      "execution_count": 32
    },
    {
      "cell_type": "code",
      "source": "",
      "metadata": {
        "trusted": true
      },
      "outputs": [],
      "execution_count": null
    }
  ]
}